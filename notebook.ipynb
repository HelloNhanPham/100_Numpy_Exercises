{
 "cells": [
  {
   "cell_type": "code",
   "execution_count": 160,
   "id": "13e278fa",
   "metadata": {},
   "outputs": [
    {
     "name": "stdout",
     "output_type": "stream",
     "text": [
      "Requirement already satisfied: numpy in c:\\users\\nhanpham\\appdata\\local\\programs\\python\\python311\\lib\\site-packages (1.26.4)\n"
     ]
    },
    {
     "name": "stderr",
     "output_type": "stream",
     "text": [
      "\n",
      "[notice] A new release of pip is available: 25.1.1 -> 25.2\n",
      "[notice] To update, run: python.exe -m pip install --upgrade pip\n"
     ]
    }
   ],
   "source": [
    "!pip install numpy"
   ]
  },
  {
   "cell_type": "markdown",
   "id": "acb84971",
   "metadata": {},
   "source": [
    "__1. Import the numpy package under the name `np`__"
   ]
  },
  {
   "cell_type": "code",
   "execution_count": 161,
   "id": "8fa9cd97",
   "metadata": {},
   "outputs": [],
   "source": [
    "import numpy as np"
   ]
  },
  {
   "cell_type": "markdown",
   "id": "6086f86d",
   "metadata": {},
   "source": [
    "__2. Print the numpy version and the configuration__"
   ]
  },
  {
   "cell_type": "code",
   "execution_count": 162,
   "id": "dce50aa0",
   "metadata": {},
   "outputs": [
    {
     "name": "stdout",
     "output_type": "stream",
     "text": [
      "1.26.4\n",
      "{'__name__': 'builtins', '__doc__': \"Built-in functions, types, exceptions, and other objects.\\n\\nThis module provides direct access to all 'built-in'\\nidentifiers of Python; for example, builtins.len is\\nthe full name for the built-in function len().\\n\\nThis module is not normally accessed explicitly by most\\napplications, but can be useful in modules that provide\\nobjects with the same name as a built-in value, but in\\nwhich the built-in of that name is also needed.\", '__package__': '', '__loader__': <class '_frozen_importlib.BuiltinImporter'>, '__spec__': ModuleSpec(name='builtins', loader=<class '_frozen_importlib.BuiltinImporter'>, origin='built-in'), '__build_class__': <built-in function __build_class__>, '__import__': <built-in function __import__>, 'abs': <built-in function abs>, 'all': <built-in function all>, 'any': <built-in function any>, 'ascii': <built-in function ascii>, 'bin': <built-in function bin>, 'breakpoint': <built-in function breakpoint>, 'callable': <built-in function callable>, 'chr': <built-in function chr>, 'compile': <built-in function compile>, 'delattr': <built-in function delattr>, 'dir': <built-in function dir>, 'divmod': <built-in function divmod>, 'eval': <built-in function eval>, 'exec': <built-in function exec>, 'format': <built-in function format>, 'getattr': <built-in function getattr>, 'globals': <built-in function globals>, 'hasattr': <built-in function hasattr>, 'hash': <built-in function hash>, 'hex': <built-in function hex>, 'id': <built-in function id>, 'input': <bound method Kernel.raw_input of <ipykernel.ipkernel.IPythonKernel object at 0x000001E7D04C5A90>>, 'isinstance': <built-in function isinstance>, 'issubclass': <built-in function issubclass>, 'iter': <built-in function iter>, 'aiter': <built-in function aiter>, 'len': <built-in function len>, 'locals': <built-in function locals>, 'max': <built-in function max>, 'min': <built-in function min>, 'next': <built-in function next>, 'anext': <built-in function anext>, 'oct': <built-in function oct>, 'ord': <built-in function ord>, 'pow': <built-in function pow>, 'print': <built-in function print>, 'repr': <built-in function repr>, 'round': <built-in function round>, 'setattr': <built-in function setattr>, 'sorted': <built-in function sorted>, 'sum': <built-in function sum>, 'vars': <built-in function vars>, 'None': None, 'Ellipsis': Ellipsis, 'NotImplemented': NotImplemented, 'False': False, 'True': True, 'bool': <class 'bool'>, 'memoryview': <class 'memoryview'>, 'bytearray': <class 'bytearray'>, 'bytes': <class 'bytes'>, 'classmethod': <class 'classmethod'>, 'complex': <class 'complex'>, 'dict': <class 'dict'>, 'enumerate': <class 'enumerate'>, 'filter': <class 'filter'>, 'float': <class 'float'>, 'frozenset': <class 'frozenset'>, 'property': <class 'property'>, 'int': <class 'int'>, 'list': <class 'list'>, 'map': <class 'map'>, 'object': <class 'object'>, 'range': <class 'range'>, 'reversed': <class 'reversed'>, 'set': <class 'set'>, 'slice': <class 'slice'>, 'staticmethod': <class 'staticmethod'>, 'str': <class 'str'>, 'super': <class 'super'>, 'tuple': <class 'tuple'>, 'type': <class 'type'>, 'zip': <class 'zip'>, '__debug__': True, 'BaseException': <class 'BaseException'>, 'BaseExceptionGroup': <class 'BaseExceptionGroup'>, 'Exception': <class 'Exception'>, 'GeneratorExit': <class 'GeneratorExit'>, 'KeyboardInterrupt': <class 'KeyboardInterrupt'>, 'SystemExit': <class 'SystemExit'>, 'ArithmeticError': <class 'ArithmeticError'>, 'AssertionError': <class 'AssertionError'>, 'AttributeError': <class 'AttributeError'>, 'BufferError': <class 'BufferError'>, 'EOFError': <class 'EOFError'>, 'ImportError': <class 'ImportError'>, 'LookupError': <class 'LookupError'>, 'MemoryError': <class 'MemoryError'>, 'NameError': <class 'NameError'>, 'OSError': <class 'OSError'>, 'ReferenceError': <class 'ReferenceError'>, 'RuntimeError': <class 'RuntimeError'>, 'StopAsyncIteration': <class 'StopAsyncIteration'>, 'StopIteration': <class 'StopIteration'>, 'SyntaxError': <class 'SyntaxError'>, 'SystemError': <class 'SystemError'>, 'TypeError': <class 'TypeError'>, 'ValueError': <class 'ValueError'>, 'Warning': <class 'Warning'>, 'FloatingPointError': <class 'FloatingPointError'>, 'OverflowError': <class 'OverflowError'>, 'ZeroDivisionError': <class 'ZeroDivisionError'>, 'BytesWarning': <class 'BytesWarning'>, 'DeprecationWarning': <class 'DeprecationWarning'>, 'EncodingWarning': <class 'EncodingWarning'>, 'FutureWarning': <class 'FutureWarning'>, 'ImportWarning': <class 'ImportWarning'>, 'PendingDeprecationWarning': <class 'PendingDeprecationWarning'>, 'ResourceWarning': <class 'ResourceWarning'>, 'RuntimeWarning': <class 'RuntimeWarning'>, 'SyntaxWarning': <class 'SyntaxWarning'>, 'UnicodeWarning': <class 'UnicodeWarning'>, 'UserWarning': <class 'UserWarning'>, 'BlockingIOError': <class 'BlockingIOError'>, 'ChildProcessError': <class 'ChildProcessError'>, 'ConnectionError': <class 'ConnectionError'>, 'FileExistsError': <class 'FileExistsError'>, 'FileNotFoundError': <class 'FileNotFoundError'>, 'InterruptedError': <class 'InterruptedError'>, 'IsADirectoryError': <class 'IsADirectoryError'>, 'NotADirectoryError': <class 'NotADirectoryError'>, 'PermissionError': <class 'PermissionError'>, 'ProcessLookupError': <class 'ProcessLookupError'>, 'TimeoutError': <class 'TimeoutError'>, 'IndentationError': <class 'IndentationError'>, 'IndexError': <class 'IndexError'>, 'KeyError': <class 'KeyError'>, 'ModuleNotFoundError': <class 'ModuleNotFoundError'>, 'NotImplementedError': <class 'NotImplementedError'>, 'RecursionError': <class 'RecursionError'>, 'UnboundLocalError': <class 'UnboundLocalError'>, 'UnicodeError': <class 'UnicodeError'>, 'BrokenPipeError': <class 'BrokenPipeError'>, 'ConnectionAbortedError': <class 'ConnectionAbortedError'>, 'ConnectionRefusedError': <class 'ConnectionRefusedError'>, 'ConnectionResetError': <class 'ConnectionResetError'>, 'TabError': <class 'TabError'>, 'UnicodeDecodeError': <class 'UnicodeDecodeError'>, 'UnicodeEncodeError': <class 'UnicodeEncodeError'>, 'UnicodeTranslateError': <class 'UnicodeTranslateError'>, 'ExceptionGroup': <class 'ExceptionGroup'>, 'EnvironmentError': <class 'OSError'>, 'IOError': <class 'OSError'>, 'WindowsError': <class 'OSError'>, 'open': <built-in function open>, 'copyright': Copyright (c) 2001-2023 Python Software Foundation.\n",
      "All Rights Reserved.\n",
      "\n",
      "Copyright (c) 2000 BeOpen.com.\n",
      "All Rights Reserved.\n",
      "\n",
      "Copyright (c) 1995-2001 Corporation for National Research Initiatives.\n",
      "All Rights Reserved.\n",
      "\n",
      "Copyright (c) 1991-1995 Stichting Mathematisch Centrum, Amsterdam.\n",
      "All Rights Reserved., 'credits':     Thanks to CWI, CNRI, BeOpen.com, Zope Corporation and a cast of thousands\n",
      "    for supporting Python development.  See www.python.org for more information., 'license': Type license() to see the full license text, 'help': Type help() for interactive help, or help(object) for help about object., 'execfile': <function execfile at 0x000001E7D18FE520>, 'runfile': <function runfile at 0x000001E7D1A48E00>, '__IPYTHON__': True, 'display': <function display at 0x000001E7CF05C900>, 'get_ipython': <bound method InteractiveShell.get_ipython of <ipykernel.zmqshell.ZMQInteractiveShell object at 0x000001E7D1CD7110>>}\n"
     ]
    }
   ],
   "source": [
    "print(np.__version__)\n",
    "print(np.__builtins__)"
   ]
  },
  {
   "cell_type": "markdown",
   "id": "b7375c95",
   "metadata": {},
   "source": [
    "__3. Create a null vector of size 10__"
   ]
  },
  {
   "cell_type": "code",
   "execution_count": 163,
   "id": "6ac0bfce",
   "metadata": {},
   "outputs": [],
   "source": [
    "null_arr = np.zeros(10, dtype=np.int32)"
   ]
  },
  {
   "cell_type": "code",
   "execution_count": 164,
   "id": "4b5c68e7",
   "metadata": {},
   "outputs": [
    {
     "name": "stdout",
     "output_type": "stream",
     "text": [
      "[0 0 0 0 0 0 0 0 0 0]\n"
     ]
    }
   ],
   "source": [
    "print(null_arr)"
   ]
  },
  {
   "cell_type": "markdown",
   "id": "075de14b",
   "metadata": {},
   "source": [
    "__4. How to find the memory size of any array__"
   ]
  },
  {
   "cell_type": "code",
   "execution_count": 165,
   "id": "4577c4c9",
   "metadata": {},
   "outputs": [
    {
     "name": "stdout",
     "output_type": "stream",
     "text": [
      "40\n"
     ]
    }
   ],
   "source": [
    "print(null_arr.nbytes)"
   ]
  },
  {
   "cell_type": "markdown",
   "id": "6b738526",
   "metadata": {},
   "source": [
    "__Question 5__"
   ]
  },
  {
   "cell_type": "code",
   "execution_count": 166,
   "id": "a7295591",
   "metadata": {},
   "outputs": [
    {
     "name": "stdout",
     "output_type": "stream",
     "text": [
      "add(x1, x2, /, out=None, *, where=True, casting='same_kind', order='K', dtype=None, subok=True[, signature, extobj])\n",
      "\n",
      "Add arguments element-wise.\n",
      "\n",
      "Parameters\n",
      "----------\n",
      "x1, x2 : array_like\n",
      "    The arrays to be added.\n",
      "    If ``x1.shape != x2.shape``, they must be broadcastable to a common\n",
      "    shape (which becomes the shape of the output).\n",
      "out : ndarray, None, or tuple of ndarray and None, optional\n",
      "    A location into which the result is stored. If provided, it must have\n",
      "    a shape that the inputs broadcast to. If not provided or None,\n",
      "    a freshly-allocated array is returned. A tuple (possible only as a\n",
      "    keyword argument) must have length equal to the number of outputs.\n",
      "where : array_like, optional\n",
      "    This condition is broadcast over the input. At locations where the\n",
      "    condition is True, the `out` array will be set to the ufunc result.\n",
      "    Elsewhere, the `out` array will retain its original value.\n",
      "    Note that if an uninitialized `out` array is created via the default\n",
      "    ``out=None``, locations within it where the condition is False will\n",
      "    remain uninitialized.\n",
      "**kwargs\n",
      "    For other keyword-only arguments, see the\n",
      "    :ref:`ufunc docs <ufuncs.kwargs>`.\n",
      "\n",
      "Returns\n",
      "-------\n",
      "add : ndarray or scalar\n",
      "    The sum of `x1` and `x2`, element-wise.\n",
      "    This is a scalar if both `x1` and `x2` are scalars.\n",
      "\n",
      "Notes\n",
      "-----\n",
      "Equivalent to `x1` + `x2` in terms of array broadcasting.\n",
      "\n",
      "Examples\n",
      "--------\n",
      ">>> np.add(1.0, 4.0)\n",
      "5.0\n",
      ">>> x1 = np.arange(9.0).reshape((3, 3))\n",
      ">>> x2 = np.arange(3.0)\n",
      ">>> np.add(x1, x2)\n",
      "array([[  0.,   2.,   4.],\n",
      "       [  3.,   5.,   7.],\n",
      "       [  6.,   8.,  10.]])\n",
      "\n",
      "The ``+`` operator can be used as a shorthand for ``np.add`` on ndarrays.\n",
      "\n",
      ">>> x1 = np.arange(9.0).reshape((3, 3))\n",
      ">>> x2 = np.arange(3.0)\n",
      ">>> x1 + x2\n",
      "array([[ 0.,  2.,  4.],\n",
      "       [ 3.,  5.,  7.],\n",
      "       [ 6.,  8., 10.]])\n",
      "None\n"
     ]
    }
   ],
   "source": [
    "print(np.info(np.add))"
   ]
  },
  {
   "cell_type": "markdown",
   "id": "f1650c00",
   "metadata": {},
   "source": [
    "__Question 6__"
   ]
  },
  {
   "cell_type": "code",
   "execution_count": 167,
   "id": "9c4c62fd",
   "metadata": {},
   "outputs": [],
   "source": [
    "Z = np.zeros(10, dtype=np.int64)\n",
    "Z[4] = 1"
   ]
  },
  {
   "cell_type": "code",
   "execution_count": 168,
   "id": "1fa856b2",
   "metadata": {},
   "outputs": [
    {
     "data": {
      "text/plain": [
       "array([0, 0, 0, 0, 1, 0, 0, 0, 0, 0], dtype=int64)"
      ]
     },
     "execution_count": 168,
     "metadata": {},
     "output_type": "execute_result"
    }
   ],
   "source": [
    "Z"
   ]
  },
  {
   "cell_type": "markdown",
   "id": "10d4d082",
   "metadata": {},
   "source": [
    "__Question 7__"
   ]
  },
  {
   "cell_type": "code",
   "execution_count": 169,
   "id": "be09ec54",
   "metadata": {},
   "outputs": [
    {
     "name": "stdout",
     "output_type": "stream",
     "text": [
      "arange([start,] stop[, step,], dtype=None, *, like=None)\n",
      "\n",
      "Return evenly spaced values within a given interval.\n",
      "\n",
      "``arange`` can be called with a varying number of positional arguments:\n",
      "\n",
      "* ``arange(stop)``: Values are generated within the half-open interval\n",
      "  ``[0, stop)`` (in other words, the interval including `start` but\n",
      "  excluding `stop`).\n",
      "* ``arange(start, stop)``: Values are generated within the half-open\n",
      "  interval ``[start, stop)``.\n",
      "* ``arange(start, stop, step)`` Values are generated within the half-open\n",
      "  interval ``[start, stop)``, with spacing between values given by\n",
      "  ``step``.\n",
      "\n",
      "For integer arguments the function is roughly equivalent to the Python\n",
      "built-in :py:class:`range`, but returns an ndarray rather than a ``range``\n",
      "instance.\n",
      "\n",
      "When using a non-integer step, such as 0.1, it is often better to use\n",
      "`numpy.linspace`.\n",
      "\n",
      "See the Warning sections below for more information.\n",
      "\n",
      "Parameters\n",
      "----------\n",
      "start : integer or real, optional\n",
      "    Start of interval.  The interval includes this value.  The default\n",
      "    start value is 0.\n",
      "stop : integer or real\n",
      "    End of interval.  The interval does not include this value, except\n",
      "    in some cases where `step` is not an integer and floating point\n",
      "    round-off affects the length of `out`.\n",
      "step : integer or real, optional\n",
      "    Spacing between values.  For any output `out`, this is the distance\n",
      "    between two adjacent values, ``out[i+1] - out[i]``.  The default\n",
      "    step size is 1.  If `step` is specified as a position argument,\n",
      "    `start` must also be given.\n",
      "dtype : dtype, optional\n",
      "    The type of the output array.  If `dtype` is not given, infer the data\n",
      "    type from the other input arguments.\n",
      "like : array_like, optional\n",
      "    Reference object to allow the creation of arrays which are not\n",
      "    NumPy arrays. If an array-like passed in as ``like`` supports\n",
      "    the ``__array_function__`` protocol, the result will be defined\n",
      "    by it. In this case, it ensures the creation of an array object\n",
      "    compatible with that passed in via this argument.\n",
      "\n",
      "    .. versionadded:: 1.20.0\n",
      "\n",
      "Returns\n",
      "-------\n",
      "arange : ndarray\n",
      "    Array of evenly spaced values.\n",
      "\n",
      "    For floating point arguments, the length of the result is\n",
      "    ``ceil((stop - start)/step)``.  Because of floating point overflow,\n",
      "    this rule may result in the last element of `out` being greater\n",
      "    than `stop`.\n",
      "\n",
      "Warnings\n",
      "--------\n",
      "The length of the output might not be numerically stable.\n",
      "\n",
      "Another stability issue is due to the internal implementation of\n",
      "`numpy.arange`.\n",
      "The actual step value used to populate the array is\n",
      "``dtype(start + step) - dtype(start)`` and not `step`. Precision loss\n",
      "can occur here, due to casting or due to using floating points when\n",
      "`start` is much larger than `step`. This can lead to unexpected\n",
      "behaviour. For example::\n",
      "\n",
      "  >>> np.arange(0, 5, 0.5, dtype=int)\n",
      "  array([0, 0, 0, 0, 0, 0, 0, 0, 0, 0])\n",
      "  >>> np.arange(-3, 3, 0.5, dtype=int)\n",
      "  array([-3, -2, -1,  0,  1,  2,  3,  4,  5,  6,  7,  8])\n",
      "\n",
      "In such cases, the use of `numpy.linspace` should be preferred.\n",
      "\n",
      "The built-in :py:class:`range` generates :std:doc:`Python built-in integers\n",
      "that have arbitrary size <python:c-api/long>`, while `numpy.arange`\n",
      "produces `numpy.int32` or `numpy.int64` numbers. This may result in\n",
      "incorrect results for large integer values::\n",
      "\n",
      "  >>> power = 40\n",
      "  >>> modulo = 10000\n",
      "  >>> x1 = [(n ** power) % modulo for n in range(8)]\n",
      "  >>> x2 = [(n ** power) % modulo for n in np.arange(8)]\n",
      "  >>> print(x1)\n",
      "  [0, 1, 7776, 8801, 6176, 625, 6576, 4001]  # correct\n",
      "  >>> print(x2)\n",
      "  [0, 1, 7776, 7185, 0, 5969, 4816, 3361]  # incorrect\n",
      "\n",
      "See Also\n",
      "--------\n",
      "numpy.linspace : Evenly spaced numbers with careful handling of endpoints.\n",
      "numpy.ogrid: Arrays of evenly spaced numbers in N-dimensions.\n",
      "numpy.mgrid: Grid-shaped arrays of evenly spaced numbers in N-dimensions.\n",
      ":ref:`how-to-partition`\n",
      "\n",
      "Examples\n",
      "--------\n",
      ">>> np.arange(3)\n",
      "array([0, 1, 2])\n",
      ">>> np.arange(3.0)\n",
      "array([ 0.,  1.,  2.])\n",
      ">>> np.arange(3,7)\n",
      "array([3, 4, 5, 6])\n",
      ">>> np.arange(3,7,2)\n",
      "array([3, 5])\n"
     ]
    }
   ],
   "source": [
    "np.info(np.arange)"
   ]
  },
  {
   "cell_type": "code",
   "execution_count": 170,
   "id": "7ddcf419",
   "metadata": {},
   "outputs": [],
   "source": [
    "arr = np.arange(start=10,stop=50, step=1, dtype=np.int64)"
   ]
  },
  {
   "cell_type": "code",
   "execution_count": 171,
   "id": "65901fc5",
   "metadata": {},
   "outputs": [
    {
     "name": "stdout",
     "output_type": "stream",
     "text": [
      "[10 11 12 13 14 15 16 17 18 19 20 21 22 23 24 25 26 27 28 29 30 31 32 33\n",
      " 34 35 36 37 38 39 40 41 42 43 44 45 46 47 48 49]\n"
     ]
    }
   ],
   "source": [
    "print(arr)"
   ]
  },
  {
   "cell_type": "markdown",
   "id": "12605ffc",
   "metadata": {},
   "source": [
    "__Question 8__"
   ]
  },
  {
   "cell_type": "code",
   "execution_count": 172,
   "id": "c2e1a15f",
   "metadata": {},
   "outputs": [],
   "source": [
    "X = np.array([1, 2, 3, 4, 5])"
   ]
  },
  {
   "cell_type": "code",
   "execution_count": 173,
   "id": "e664b8b5",
   "metadata": {},
   "outputs": [
    {
     "data": {
      "text/plain": [
       "array([1, 2, 3, 4, 5])"
      ]
     },
     "execution_count": 173,
     "metadata": {},
     "output_type": "execute_result"
    }
   ],
   "source": [
    "X"
   ]
  },
  {
   "cell_type": "code",
   "execution_count": 174,
   "id": "69463cf0",
   "metadata": {},
   "outputs": [],
   "source": [
    "reversed_X = X[::-1]"
   ]
  },
  {
   "cell_type": "code",
   "execution_count": 175,
   "id": "dd58d426",
   "metadata": {},
   "outputs": [
    {
     "data": {
      "text/plain": [
       "array([5, 4, 3, 2, 1])"
      ]
     },
     "execution_count": 175,
     "metadata": {},
     "output_type": "execute_result"
    }
   ],
   "source": [
    "reversed_X"
   ]
  },
  {
   "cell_type": "markdown",
   "id": "ae90c2bf",
   "metadata": {},
   "source": [
    "__Question 9__"
   ]
  },
  {
   "cell_type": "code",
   "execution_count": 176,
   "id": "b9467b15",
   "metadata": {},
   "outputs": [],
   "source": [
    "X = np.arange(9).reshape(3, 3)"
   ]
  },
  {
   "cell_type": "code",
   "execution_count": 177,
   "id": "416fb3ac",
   "metadata": {},
   "outputs": [
    {
     "data": {
      "text/plain": [
       "array([[0, 1, 2],\n",
       "       [3, 4, 5],\n",
       "       [6, 7, 8]])"
      ]
     },
     "execution_count": 177,
     "metadata": {},
     "output_type": "execute_result"
    }
   ],
   "source": [
    "X"
   ]
  },
  {
   "cell_type": "markdown",
   "id": "343505d8",
   "metadata": {},
   "source": [
    "__Question 10__"
   ]
  },
  {
   "cell_type": "code",
   "execution_count": 178,
   "id": "6d9f7715",
   "metadata": {},
   "outputs": [],
   "source": [
    "X = [1, 2, 0, 0, 4, 0]"
   ]
  },
  {
   "cell_type": "code",
   "execution_count": 179,
   "id": "ca684bd6",
   "metadata": {},
   "outputs": [],
   "source": [
    "Y = np.nonzero(X)"
   ]
  },
  {
   "cell_type": "code",
   "execution_count": 180,
   "id": "4cb800cf",
   "metadata": {},
   "outputs": [
    {
     "data": {
      "text/plain": [
       "(array([0, 1, 4], dtype=int64),)"
      ]
     },
     "execution_count": 180,
     "metadata": {},
     "output_type": "execute_result"
    }
   ],
   "source": [
    "Y"
   ]
  },
  {
   "cell_type": "markdown",
   "id": "73ec72db",
   "metadata": {},
   "source": [
    "__Question 11__"
   ]
  },
  {
   "cell_type": "code",
   "execution_count": 181,
   "id": "d971e343",
   "metadata": {},
   "outputs": [],
   "source": [
    "X = np.eye(3)"
   ]
  },
  {
   "cell_type": "code",
   "execution_count": 182,
   "id": "7ab8b31f",
   "metadata": {},
   "outputs": [
    {
     "data": {
      "text/plain": [
       "array([[1., 0., 0.],\n",
       "       [0., 1., 0.],\n",
       "       [0., 0., 1.]])"
      ]
     },
     "execution_count": 182,
     "metadata": {},
     "output_type": "execute_result"
    }
   ],
   "source": [
    "X"
   ]
  },
  {
   "cell_type": "markdown",
   "id": "3b889a95",
   "metadata": {},
   "source": [
    "__Question 12__"
   ]
  },
  {
   "cell_type": "code",
   "execution_count": 183,
   "id": "1ffec953",
   "metadata": {},
   "outputs": [],
   "source": [
    "X = np.random.random((3, 3, 3))"
   ]
  },
  {
   "cell_type": "code",
   "execution_count": 184,
   "id": "f3d83c0f",
   "metadata": {},
   "outputs": [
    {
     "data": {
      "text/plain": [
       "array([[[0.75022555, 0.86873862, 0.89250938],\n",
       "        [0.84049153, 0.49244659, 0.32121042],\n",
       "        [0.77881793, 0.19880849, 0.3336323 ]],\n",
       "\n",
       "       [[0.16835121, 0.17129773, 0.81800375],\n",
       "        [0.99335904, 0.10829916, 0.68715183],\n",
       "        [0.42312806, 0.54249545, 0.4012893 ]],\n",
       "\n",
       "       [[0.45179148, 0.45482168, 0.67365823],\n",
       "        [0.08385055, 0.38880832, 0.02198657],\n",
       "        [0.09544649, 0.45098575, 0.09616007]]])"
      ]
     },
     "execution_count": 184,
     "metadata": {},
     "output_type": "execute_result"
    }
   ],
   "source": [
    "X"
   ]
  },
  {
   "cell_type": "markdown",
   "id": "e9f73f06",
   "metadata": {},
   "source": [
    "__Question 13__"
   ]
  },
  {
   "cell_type": "code",
   "execution_count": 185,
   "id": "e8332097",
   "metadata": {},
   "outputs": [
    {
     "data": {
      "text/plain": [
       "array([[0.53971003, 0.41131626, 0.81965325, 0.32027156, 0.87277276,\n",
       "        0.08652046, 0.06236221, 0.08108328, 0.72416468, 0.08304802],\n",
       "       [0.32539603, 0.61599023, 0.71520431, 0.89623654, 0.95294602,\n",
       "        0.92077392, 0.79382617, 0.25027914, 0.92183483, 0.21141128],\n",
       "       [0.74437184, 0.10357688, 0.74025695, 0.4445672 , 0.48969628,\n",
       "        0.2324423 , 0.54876409, 0.81024926, 0.14667192, 0.73063615],\n",
       "       [0.66447603, 0.17151083, 0.68428677, 0.47854392, 0.9807055 ,\n",
       "        0.76986301, 0.5069402 , 0.38719549, 0.50250155, 0.38044034],\n",
       "       [0.7457347 , 0.03567742, 0.26900121, 0.53064927, 0.44003503,\n",
       "        0.52705908, 0.32076286, 0.0220279 , 0.5130103 , 0.36267283],\n",
       "       [0.96739135, 0.33527569, 0.52361617, 0.91180718, 0.32576089,\n",
       "        0.09317262, 0.22242116, 0.82407762, 0.22426056, 0.38910896],\n",
       "       [0.58058097, 0.03899919, 0.98865964, 0.36062301, 0.97613355,\n",
       "        0.45162508, 0.44756116, 0.2112352 , 0.24317395, 0.5032375 ],\n",
       "       [0.54974916, 0.93261341, 0.63679305, 0.64052275, 0.86776938,\n",
       "        0.18937819, 0.09391701, 0.70823776, 0.88530576, 0.64615166],\n",
       "       [0.06161105, 0.71391573, 0.50178538, 0.54266218, 0.01595877,\n",
       "        0.47954997, 0.09788578, 0.34935736, 0.77837724, 0.25911256],\n",
       "       [0.99951229, 0.73397939, 0.75248341, 0.79976216, 0.12346089,\n",
       "        0.58451025, 0.64111438, 0.87885587, 0.51556858, 0.56058753]])"
      ]
     },
     "execution_count": 185,
     "metadata": {},
     "output_type": "execute_result"
    }
   ],
   "source": [
    "X = np.random.random((10, 10))\n",
    "\n",
    "X"
   ]
  },
  {
   "cell_type": "code",
   "execution_count": 186,
   "id": "3230e9e0",
   "metadata": {},
   "outputs": [],
   "source": [
    "min_value, max_value = X.min(), X.max()"
   ]
  },
  {
   "cell_type": "code",
   "execution_count": 187,
   "id": "781fb6e5",
   "metadata": {},
   "outputs": [
    {
     "data": {
      "text/plain": [
       "(0.015958772091434703, 0.9995122862275536)"
      ]
     },
     "execution_count": 187,
     "metadata": {},
     "output_type": "execute_result"
    }
   ],
   "source": [
    "min_value, max_value"
   ]
  },
  {
   "cell_type": "markdown",
   "id": "b784a578",
   "metadata": {},
   "source": [
    "__Question 14__"
   ]
  },
  {
   "cell_type": "code",
   "execution_count": 188,
   "id": "11f6b278",
   "metadata": {},
   "outputs": [],
   "source": [
    "X= np.random.random(30)"
   ]
  },
  {
   "cell_type": "code",
   "execution_count": 189,
   "id": "16dce7eb",
   "metadata": {},
   "outputs": [
    {
     "data": {
      "text/plain": [
       "array([0.97903991, 0.15515333, 0.22793235, 0.78311494, 0.6671733 ,\n",
       "       0.10528275, 0.92094227, 0.07807367, 0.30099567, 0.67246639,\n",
       "       0.43076045, 0.23249969, 0.42563196, 0.85478891, 0.50881857,\n",
       "       0.78953575, 0.5745484 , 0.90254318, 0.05164132, 0.97765099,\n",
       "       0.72773403, 0.11132601, 0.08663321, 0.97145117, 0.05659119,\n",
       "       0.38830128, 0.71671379, 0.68604559, 0.37445281, 0.70947428])"
      ]
     },
     "execution_count": 189,
     "metadata": {},
     "output_type": "execute_result"
    }
   ],
   "source": [
    "X"
   ]
  },
  {
   "cell_type": "code",
   "execution_count": 190,
   "id": "5d3b90f6",
   "metadata": {},
   "outputs": [
    {
     "data": {
      "text/plain": [
       "0.5155772387051925"
      ]
     },
     "execution_count": 190,
     "metadata": {},
     "output_type": "execute_result"
    }
   ],
   "source": [
    "X.mean()"
   ]
  },
  {
   "cell_type": "markdown",
   "id": "20787e7c",
   "metadata": {},
   "source": [
    "__Question 15__"
   ]
  },
  {
   "cell_type": "code",
   "execution_count": 191,
   "id": "2b3b73ec",
   "metadata": {},
   "outputs": [],
   "source": [
    "X = np.ones((5, 5))"
   ]
  },
  {
   "cell_type": "code",
   "execution_count": 192,
   "id": "a401a306",
   "metadata": {},
   "outputs": [
    {
     "data": {
      "text/plain": [
       "array([[1., 1., 1., 1., 1.],\n",
       "       [1., 1., 1., 1., 1.],\n",
       "       [1., 1., 1., 1., 1.],\n",
       "       [1., 1., 1., 1., 1.],\n",
       "       [1., 1., 1., 1., 1.]])"
      ]
     },
     "execution_count": 192,
     "metadata": {},
     "output_type": "execute_result"
    }
   ],
   "source": [
    "X"
   ]
  },
  {
   "cell_type": "code",
   "execution_count": 193,
   "id": "ad33814c",
   "metadata": {},
   "outputs": [],
   "source": [
    "X[1:-1, 1:-1] = 0"
   ]
  },
  {
   "cell_type": "code",
   "execution_count": 194,
   "id": "f864f973",
   "metadata": {},
   "outputs": [
    {
     "data": {
      "text/plain": [
       "array([[1., 1., 1., 1., 1.],\n",
       "       [1., 0., 0., 0., 1.],\n",
       "       [1., 0., 0., 0., 1.],\n",
       "       [1., 0., 0., 0., 1.],\n",
       "       [1., 1., 1., 1., 1.]])"
      ]
     },
     "execution_count": 194,
     "metadata": {},
     "output_type": "execute_result"
    }
   ],
   "source": [
    "X"
   ]
  },
  {
   "cell_type": "markdown",
   "id": "230d59bd",
   "metadata": {},
   "source": [
    "__Question 16__"
   ]
  },
  {
   "cell_type": "code",
   "execution_count": 195,
   "id": "8724dc30",
   "metadata": {},
   "outputs": [
    {
     "data": {
      "text/plain": [
       "array([[1., 1., 1., 1., 1.],\n",
       "       [1., 1., 1., 1., 1.],\n",
       "       [1., 1., 1., 1., 1.],\n",
       "       [1., 1., 1., 1., 1.],\n",
       "       [1., 1., 1., 1., 1.]])"
      ]
     },
     "execution_count": 195,
     "metadata": {},
     "output_type": "execute_result"
    }
   ],
   "source": [
    "X = np.ones((5, 5))\n",
    "\n",
    "X"
   ]
  },
  {
   "cell_type": "code",
   "execution_count": 196,
   "id": "58be6291",
   "metadata": {},
   "outputs": [
    {
     "data": {
      "text/plain": [
       "array([[0., 0., 0., 0., 0., 0., 0.],\n",
       "       [0., 1., 1., 1., 1., 1., 0.],\n",
       "       [0., 1., 1., 1., 1., 1., 0.],\n",
       "       [0., 1., 1., 1., 1., 1., 0.],\n",
       "       [0., 1., 1., 1., 1., 1., 0.],\n",
       "       [0., 1., 1., 1., 1., 1., 0.],\n",
       "       [0., 0., 0., 0., 0., 0., 0.]])"
      ]
     },
     "execution_count": 196,
     "metadata": {},
     "output_type": "execute_result"
    }
   ],
   "source": [
    "X = np.pad(X, constant_values=0, mode='constant', pad_width=1)\n",
    "\n",
    "X"
   ]
  },
  {
   "cell_type": "code",
   "execution_count": 197,
   "id": "ea8c23fe",
   "metadata": {},
   "outputs": [
    {
     "data": {
      "text/plain": [
       "array([[1., 1., 1., 1., 1.],\n",
       "       [1., 1., 1., 1., 1.],\n",
       "       [1., 1., 1., 1., 1.],\n",
       "       [1., 1., 1., 1., 1.],\n",
       "       [1., 1., 1., 1., 1.]])"
      ]
     },
     "execution_count": 197,
     "metadata": {},
     "output_type": "execute_result"
    }
   ],
   "source": [
    "X = np.ones((5, 5))\n",
    "\n",
    "X"
   ]
  },
  {
   "cell_type": "code",
   "execution_count": 198,
   "id": "0201b54d",
   "metadata": {},
   "outputs": [],
   "source": [
    "X[:, [0, -1]] = 0\n",
    "X[[0, -1], :] = 0"
   ]
  },
  {
   "cell_type": "code",
   "execution_count": 199,
   "id": "e1842ebf",
   "metadata": {},
   "outputs": [
    {
     "data": {
      "text/plain": [
       "array([[0., 0., 0., 0., 0.],\n",
       "       [0., 1., 1., 1., 0.],\n",
       "       [0., 1., 1., 1., 0.],\n",
       "       [0., 1., 1., 1., 0.],\n",
       "       [0., 0., 0., 0., 0.]])"
      ]
     },
     "execution_count": 199,
     "metadata": {},
     "output_type": "execute_result"
    }
   ],
   "source": [
    "X"
   ]
  },
  {
   "cell_type": "markdown",
   "id": "d77300a9",
   "metadata": {},
   "source": [
    "__Question 17__"
   ]
  },
  {
   "cell_type": "code",
   "execution_count": 200,
   "id": "7bd1e6a1",
   "metadata": {},
   "outputs": [
    {
     "name": "stdout",
     "output_type": "stream",
     "text": [
      "nan\n"
     ]
    }
   ],
   "source": [
    "print(np.nan)"
   ]
  },
  {
   "cell_type": "code",
   "execution_count": 201,
   "id": "6df2f8a7",
   "metadata": {},
   "outputs": [
    {
     "name": "stdout",
     "output_type": "stream",
     "text": [
      "inf\n"
     ]
    }
   ],
   "source": [
    "print(np.inf)"
   ]
  },
  {
   "cell_type": "code",
   "execution_count": 202,
   "id": "4ed58805",
   "metadata": {},
   "outputs": [
    {
     "name": "stdout",
     "output_type": "stream",
     "text": [
      "nan\n"
     ]
    }
   ],
   "source": [
    "print(0*np.nan)"
   ]
  },
  {
   "cell_type": "code",
   "execution_count": 203,
   "id": "0e1a79a9",
   "metadata": {},
   "outputs": [
    {
     "name": "stdout",
     "output_type": "stream",
     "text": [
      "nan\n"
     ]
    }
   ],
   "source": [
    "print(0*np.inf)"
   ]
  },
  {
   "cell_type": "code",
   "execution_count": 204,
   "id": "373a8bee",
   "metadata": {},
   "outputs": [
    {
     "name": "stdout",
     "output_type": "stream",
     "text": [
      "False\n"
     ]
    }
   ],
   "source": [
    "print(np.nan == np.nan)"
   ]
  },
  {
   "cell_type": "code",
   "execution_count": 205,
   "id": "d98d16a9",
   "metadata": {},
   "outputs": [
    {
     "name": "stdout",
     "output_type": "stream",
     "text": [
      "False\n"
     ]
    }
   ],
   "source": [
    "print(np.inf > np.nan)"
   ]
  },
  {
   "cell_type": "code",
   "execution_count": 206,
   "id": "0dde097f",
   "metadata": {},
   "outputs": [
    {
     "name": "stdout",
     "output_type": "stream",
     "text": [
      "nan\n"
     ]
    }
   ],
   "source": [
    "print(np.nan - np.nan)"
   ]
  },
  {
   "cell_type": "code",
   "execution_count": 207,
   "id": "9c6b4e82",
   "metadata": {},
   "outputs": [
    {
     "name": "stdout",
     "output_type": "stream",
     "text": [
      "True\n"
     ]
    }
   ],
   "source": [
    "print(np.nan in set([np.nan]))"
   ]
  },
  {
   "cell_type": "markdown",
   "id": "54483b5d",
   "metadata": {},
   "source": [
    "__Question 18__"
   ]
  },
  {
   "cell_type": "code",
   "execution_count": 208,
   "id": "5fb66644",
   "metadata": {},
   "outputs": [],
   "source": [
    "X = np.diag(1+np.arange(4), k=-1)"
   ]
  },
  {
   "cell_type": "code",
   "execution_count": 209,
   "id": "ebdf7efd",
   "metadata": {},
   "outputs": [
    {
     "data": {
      "text/plain": [
       "array([[0, 0, 0, 0, 0],\n",
       "       [1, 0, 0, 0, 0],\n",
       "       [0, 2, 0, 0, 0],\n",
       "       [0, 0, 3, 0, 0],\n",
       "       [0, 0, 0, 4, 0]])"
      ]
     },
     "execution_count": 209,
     "metadata": {},
     "output_type": "execute_result"
    }
   ],
   "source": [
    "X"
   ]
  },
  {
   "cell_type": "markdown",
   "id": "fcb310d0",
   "metadata": {},
   "source": [
    "__Question 19__"
   ]
  },
  {
   "cell_type": "code",
   "execution_count": 210,
   "id": "a8ea80c1",
   "metadata": {},
   "outputs": [],
   "source": [
    "X = np.zeros((8, 8), dtype=int)\n",
    "X[1::2, ::2] = 1\n",
    "X[::2, 1::2] = 1"
   ]
  },
  {
   "cell_type": "code",
   "execution_count": 211,
   "id": "d499de3d",
   "metadata": {},
   "outputs": [
    {
     "data": {
      "text/plain": [
       "array([[0, 1, 0, 1, 0, 1, 0, 1],\n",
       "       [1, 0, 1, 0, 1, 0, 1, 0],\n",
       "       [0, 1, 0, 1, 0, 1, 0, 1],\n",
       "       [1, 0, 1, 0, 1, 0, 1, 0],\n",
       "       [0, 1, 0, 1, 0, 1, 0, 1],\n",
       "       [1, 0, 1, 0, 1, 0, 1, 0],\n",
       "       [0, 1, 0, 1, 0, 1, 0, 1],\n",
       "       [1, 0, 1, 0, 1, 0, 1, 0]])"
      ]
     },
     "execution_count": 211,
     "metadata": {},
     "output_type": "execute_result"
    }
   ],
   "source": [
    "X"
   ]
  },
  {
   "cell_type": "markdown",
   "id": "e8965760",
   "metadata": {},
   "source": [
    "__Question 20__"
   ]
  },
  {
   "cell_type": "code",
   "execution_count": 212,
   "id": "fccacbf1",
   "metadata": {},
   "outputs": [
    {
     "name": "stdout",
     "output_type": "stream",
     "text": [
      "(1, 5, 3)\n"
     ]
    }
   ],
   "source": [
    "print(np.unravel_index(99, (6,7,8)))"
   ]
  },
  {
   "cell_type": "markdown",
   "id": "d515fdc9",
   "metadata": {},
   "source": [
    "__Question 21__"
   ]
  },
  {
   "cell_type": "code",
   "execution_count": 213,
   "id": "ee08b7e5",
   "metadata": {},
   "outputs": [],
   "source": [
    "X = np.tile( np.array([[0,1],[1,0]]), (4,4))"
   ]
  },
  {
   "cell_type": "code",
   "execution_count": 214,
   "id": "fc4da2fb",
   "metadata": {},
   "outputs": [
    {
     "data": {
      "text/plain": [
       "array([[0, 1, 0, 1, 0, 1, 0, 1],\n",
       "       [1, 0, 1, 0, 1, 0, 1, 0],\n",
       "       [0, 1, 0, 1, 0, 1, 0, 1],\n",
       "       [1, 0, 1, 0, 1, 0, 1, 0],\n",
       "       [0, 1, 0, 1, 0, 1, 0, 1],\n",
       "       [1, 0, 1, 0, 1, 0, 1, 0],\n",
       "       [0, 1, 0, 1, 0, 1, 0, 1],\n",
       "       [1, 0, 1, 0, 1, 0, 1, 0]])"
      ]
     },
     "execution_count": 214,
     "metadata": {},
     "output_type": "execute_result"
    }
   ],
   "source": [
    "X"
   ]
  },
  {
   "cell_type": "markdown",
   "id": "c072a2a1",
   "metadata": {},
   "source": [
    "__Question 22__"
   ]
  },
  {
   "cell_type": "code",
   "execution_count": 215,
   "id": "e4515fac",
   "metadata": {},
   "outputs": [],
   "source": [
    "Z = np.random.random((5, 5))\n",
    "Z = (Z - np.mean(Z)) / (np.std(Z))"
   ]
  },
  {
   "cell_type": "code",
   "execution_count": 216,
   "id": "091c3235",
   "metadata": {},
   "outputs": [
    {
     "data": {
      "text/plain": [
       "array([[ 1.30775382, -1.10500911, -1.46068561,  0.18581283, -0.07776328],\n",
       "       [-1.00226744,  1.05264075,  1.20402319, -1.31203337, -0.18294805],\n",
       "       [-0.83733528,  0.24714979,  1.32148176, -0.55198178,  0.32577836],\n",
       "       [-0.79982131,  0.31727052,  1.38718896, -1.72864965,  1.41436363],\n",
       "       [ 0.75980427,  0.41075699, -1.54503643,  0.90372031, -0.23421388]])"
      ]
     },
     "execution_count": 216,
     "metadata": {},
     "output_type": "execute_result"
    }
   ],
   "source": [
    "Z"
   ]
  },
  {
   "cell_type": "markdown",
   "id": "77cfdc7c",
   "metadata": {},
   "source": [
    "__Question 23__"
   ]
  },
  {
   "cell_type": "code",
   "execution_count": 217,
   "id": "ff56a638",
   "metadata": {},
   "outputs": [],
   "source": [
    "color = np.dtype([(\"r\", np.ubyte),\n",
    "                  (\"g\", np.ubyte),\n",
    "                  (\"b\", np.ubyte),\n",
    "                  (\"a\", np.ubyte)])"
   ]
  },
  {
   "cell_type": "code",
   "execution_count": 218,
   "id": "59dd5f7c",
   "metadata": {},
   "outputs": [
    {
     "name": "stdout",
     "output_type": "stream",
     "text": [
      "[('r', 'u1'), ('g', 'u1'), ('b', 'u1'), ('a', 'u1')]\n"
     ]
    }
   ],
   "source": [
    "print(color)"
   ]
  },
  {
   "cell_type": "code",
   "execution_count": 219,
   "id": "b9c25039",
   "metadata": {},
   "outputs": [],
   "source": [
    "pixel = np.array((255, 0, 0, 255), dtype=color)"
   ]
  },
  {
   "cell_type": "code",
   "execution_count": 220,
   "id": "33a44520",
   "metadata": {},
   "outputs": [
    {
     "name": "stdout",
     "output_type": "stream",
     "text": [
      "(255, 0, 0, 255)\n"
     ]
    }
   ],
   "source": [
    "print(pixel)"
   ]
  },
  {
   "cell_type": "markdown",
   "id": "9d9d9fbc",
   "metadata": {},
   "source": [
    "__Question 24__"
   ]
  },
  {
   "cell_type": "code",
   "execution_count": 221,
   "id": "d092a004",
   "metadata": {},
   "outputs": [],
   "source": [
    "X = np.arange(15).reshape(5, 3)\n",
    "Y = np.arange(6).reshape(3, 2)"
   ]
  },
  {
   "cell_type": "code",
   "execution_count": 222,
   "id": "d142621a",
   "metadata": {},
   "outputs": [
    {
     "data": {
      "text/plain": [
       "array([[ 10,  13],\n",
       "       [ 28,  40],\n",
       "       [ 46,  67],\n",
       "       [ 64,  94],\n",
       "       [ 82, 121]])"
      ]
     },
     "execution_count": 222,
     "metadata": {},
     "output_type": "execute_result"
    }
   ],
   "source": [
    "np.dot(X, Y)"
   ]
  },
  {
   "cell_type": "code",
   "execution_count": 223,
   "id": "c0f954fa",
   "metadata": {},
   "outputs": [
    {
     "data": {
      "text/plain": [
       "array([[ 10,  13],\n",
       "       [ 28,  40],\n",
       "       [ 46,  67],\n",
       "       [ 64,  94],\n",
       "       [ 82, 121]])"
      ]
     },
     "execution_count": 223,
     "metadata": {},
     "output_type": "execute_result"
    }
   ],
   "source": [
    "X @ Y"
   ]
  },
  {
   "cell_type": "markdown",
   "id": "01ca6111",
   "metadata": {},
   "source": [
    "__Question 25__"
   ]
  },
  {
   "cell_type": "code",
   "execution_count": 224,
   "id": "09068201",
   "metadata": {},
   "outputs": [
    {
     "data": {
      "text/plain": [
       "array([ 0,  1,  2,  3, -4, -5, -6, -7,  8,  9, 10, 11, 12, 13, 14])"
      ]
     },
     "execution_count": 224,
     "metadata": {},
     "output_type": "execute_result"
    }
   ],
   "source": [
    "X = np.arange(15)\n",
    "X[(3 < X) & (X < 8)] *= -1\n",
    "X"
   ]
  },
  {
   "cell_type": "markdown",
   "id": "e82fb55f",
   "metadata": {},
   "source": [
    "__Question 26__"
   ]
  },
  {
   "cell_type": "code",
   "execution_count": 225,
   "id": "4a3142b6",
   "metadata": {},
   "outputs": [
    {
     "name": "stdout",
     "output_type": "stream",
     "text": [
      "10\n",
      "10\n"
     ]
    }
   ],
   "source": [
    "print(sum(range(5), -1))\n",
    "from numpy import *\n",
    "print(sum(range(5), -1))"
   ]
  },
  {
   "cell_type": "markdown",
   "id": "c56108ce",
   "metadata": {},
   "source": [
    "__Question 27__"
   ]
  },
  {
   "cell_type": "code",
   "execution_count": 226,
   "id": "82620238",
   "metadata": {},
   "outputs": [
    {
     "name": "stderr",
     "output_type": "stream",
     "text": [
      "C:\\Users\\NhanPham\\AppData\\Local\\Temp\\ipykernel_17524\\2996799114.py:1: RuntimeWarning: invalid value encountered in power\n",
      "  Z**Z\n"
     ]
    },
    {
     "data": {
      "text/plain": [
       "array([[1.42032366,        nan,        nan, 0.73145041,        nan],\n",
       "       [       nan, 1.05548733, 1.2505073 ,        nan,        nan],\n",
       "       [       nan, 0.70789729, 1.44537365,        nan, 0.69393789],\n",
       "       [       nan, 0.69473367, 1.57459537,        nan, 1.63285686],\n",
       "       [0.81162734, 0.69386874,        nan, 0.91257186,        nan]])"
      ]
     },
     "execution_count": 226,
     "metadata": {},
     "output_type": "execute_result"
    }
   ],
   "source": [
    "Z**Z"
   ]
  }
 ],
 "metadata": {
  "kernelspec": {
   "display_name": "Python (tensorflow_env)",
   "language": "python",
   "name": "tensorflow_env"
  },
  "language_info": {
   "codemirror_mode": {
    "name": "ipython",
    "version": 3
   },
   "file_extension": ".py",
   "mimetype": "text/x-python",
   "name": "python",
   "nbconvert_exporter": "python",
   "pygments_lexer": "ipython3",
   "version": "3.11.9"
  }
 },
 "nbformat": 4,
 "nbformat_minor": 5
}
